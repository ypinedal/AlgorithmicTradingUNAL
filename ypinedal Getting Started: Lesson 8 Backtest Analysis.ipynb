bt = get_backtest('5e6aae8577638747ca31266e')
bt.create_full_tear_sheet()
